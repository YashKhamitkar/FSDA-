{
 "cells": [
  {
   "cell_type": "markdown",
   "id": "ad3c798a",
   "metadata": {},
   "source": [
    "## Programming Assignment_3\n",
    "----------------"
   ]
  },
  {
   "cell_type": "markdown",
   "id": "fdeb4706",
   "metadata": {},
   "source": [
    "### 1. Write a Python Program to Check if a Number is Positive, Negative or Zero?"
   ]
  },
  {
   "cell_type": "code",
   "execution_count": 12,
   "id": "1d514e10",
   "metadata": {},
   "outputs": [
    {
     "name": "stdout",
     "output_type": "stream",
     "text": [
      "Enter a number:- 0.36\n",
      "The 0.36 is Positive\n"
     ]
    }
   ],
   "source": [
    "checkNum=float(input(\"Enter a number:- \"))\n",
    "if checkNum<0:\n",
    "    print(\"The\",checkNum,\"is negative\")\n",
    "elif checkNum>0:\n",
    "    print(\"The\",checkNum,\"is Positive\")\n",
    "elif checkNum==0:\n",
    "    print(\"The\",checkNum,\"is zero\")"
   ]
  },
  {
   "cell_type": "markdown",
   "id": "086bfded",
   "metadata": {},
   "source": [
    "### 2. Write a Python Program to Check if a Number is Odd or Even?"
   ]
  },
  {
   "cell_type": "code",
   "execution_count": 16,
   "id": "a1438834",
   "metadata": {},
   "outputs": [
    {
     "name": "stdout",
     "output_type": "stream",
     "text": [
      "Enter The Number:-  -90\n",
      "The -90.0 is Even Number\n"
     ]
    }
   ],
   "source": [
    "EvenOddNum=float(input(\"Enter The Number:-  \"))\n",
    "if EvenOddNum%2==0:\n",
    "    print(\"The\",EvenOddNum,\"is Even Number\")\n",
    "else:\n",
    "    print(\"The\",EvenOddNum,\"is Odd Number\")"
   ]
  },
  {
   "cell_type": "markdown",
   "id": "575e4f94",
   "metadata": {},
   "source": [
    "### 3. Write a Python Program to Check Leap Year?\n"
   ]
  },
  {
   "cell_type": "code",
   "execution_count": 23,
   "id": "f9012b5b",
   "metadata": {},
   "outputs": [
    {
     "name": "stdout",
     "output_type": "stream",
     "text": [
      "Enter the Year:-  2024\n",
      "The 2024 is Leap Number\n"
     ]
    }
   ],
   "source": [
    "LeapYear=int(input(\"Enter the Year:-  \"))\n",
    "if LeapYear%4==0:\n",
    "    print(\"The\",LeapYear,\"is Leap Number\")\n",
    "else:\n",
    "    print(\"The\",LeapYear,\"is Not Leap Number\")\n"
   ]
  },
  {
   "cell_type": "markdown",
   "id": "aa83ce63",
   "metadata": {},
   "source": [
    "### 4. Write a Python Program to Check Prime Number?"
   ]
  },
  {
   "cell_type": "code",
   "execution_count": 116,
   "id": "4d7a3310",
   "metadata": {},
   "outputs": [
    {
     "name": "stdout",
     "output_type": "stream",
     "text": [
      "Enter a number:- 91\n",
      "The Number is Not Prime 91\n"
     ]
    }
   ],
   "source": [
    "flag=True\n",
    "PrimeNumber=int(input(\"Enter a number:- \"))\n",
    "if PrimeNumber>1:\n",
    "    for i in range(2,PrimeNumber):\n",
    "        if(PrimeNumber%i==0):\n",
    "            flag=False\n",
    "            break\n",
    "if PrimeNumber==1:\n",
    "    print(\"The Number is Not Prime\",PrimeNumber)\n",
    "elif flag==True:\n",
    "    print(\"The Number is Prime\",PrimeNumber)\n",
    "else:\n",
    "    print(\"The Number is Not Prime\",PrimeNumber)"
   ]
  },
  {
   "cell_type": "markdown",
   "id": "b44b54ff",
   "metadata": {},
   "source": [
    "### 5. Write a Python Program to Print all Prime Numbers in an Interval of 1-10000?"
   ]
  },
  {
   "cell_type": "code",
   "execution_count": 165,
   "id": "47268a5e",
   "metadata": {},
   "outputs": [],
   "source": [
    "Num=10001\n",
    "flag=True\n",
    "if Num>1:\n",
    "    for i in range(2,Num):\n",
    "        for j in range(2,i):\n",
    "            if(i%j==0):\n",
    "                print(\"The Number is Not Prime\",j,i,Num)\n",
    "                flag=False\n",
    "            \n",
    "elif(flag==True):\n",
    "    print(\"The Number is Prime\",i)\n",
    "    \n",
    "else:\n",
    "    print(\"The Number is Prime\",i)\n"
   ]
  },
  {
   "cell_type": "code",
   "execution_count": null,
   "id": "d47efc18",
   "metadata": {},
   "outputs": [],
   "source": []
  }
 ],
 "metadata": {
  "kernelspec": {
   "display_name": "Python 3 (ipykernel)",
   "language": "python",
   "name": "python3"
  },
  "language_info": {
   "codemirror_mode": {
    "name": "ipython",
    "version": 3
   },
   "file_extension": ".py",
   "mimetype": "text/x-python",
   "name": "python",
   "nbconvert_exporter": "python",
   "pygments_lexer": "ipython3",
   "version": "3.9.12"
  }
 },
 "nbformat": 4,
 "nbformat_minor": 5
}
