{
 "cells": [
  {
   "cell_type": "markdown",
   "id": "637b47a5",
   "metadata": {},
   "source": [
    "## Programming Assignment_1\n",
    "-------------"
   ]
  },
  {
   "cell_type": "markdown",
   "id": "0c647dbe",
   "metadata": {},
   "source": [
    "### 1. Write a Python program to print \"Hello Python\"?"
   ]
  },
  {
   "cell_type": "code",
   "execution_count": 1,
   "id": "9e331f61",
   "metadata": {},
   "outputs": [
    {
     "name": "stdout",
     "output_type": "stream",
     "text": [
      "Hello Python\n"
     ]
    }
   ],
   "source": [
    "print(\"Hello Python\")"
   ]
  },
  {
   "cell_type": "markdown",
   "id": "fc18a6cd",
   "metadata": {},
   "source": [
    "### 2. Write a Python program to do arithmetical operations addition and division.?\n"
   ]
  },
  {
   "cell_type": "code",
   "execution_count": 68,
   "id": "b236a26b",
   "metadata": {},
   "outputs": [
    {
     "name": "stdout",
     "output_type": "stream",
     "text": [
      "Enter first number:-  4\n",
      "Enter Second number:-  9\n",
      "Addition of Num1 and Num2 is:- 13\n",
      "Division of Num1 and Num2 is:- 0.4444444444444444\n"
     ]
    }
   ],
   "source": [
    "num1=int(input(\"Enter first number:-  \"))\n",
    "num2=int(input(\"Enter Second number:-  \"))\n",
    "\n",
    "#addition\n",
    "Add = num1+num2\n",
    "print(\"Addition of Num1 and Num2 is:-\",Add)\n",
    "\n",
    "#division\n",
    "Divide = num1/num2\n",
    "print(\"Division of Num1 and Num2 is:-\",Divide)"
   ]
  },
  {
   "cell_type": "markdown",
   "id": "af6e2429",
   "metadata": {},
   "source": [
    "### 3. Write a Python program to find the area of a triangle?\n"
   ]
  },
  {
   "cell_type": "code",
   "execution_count": 7,
   "id": "dacf75de",
   "metadata": {
    "scrolled": true
   },
   "outputs": [
    {
     "name": "stdout",
     "output_type": "stream",
     "text": [
      "b Base: 4\n",
      "h height: 6\n",
      "Area of Trangle is: 12.0\n"
     ]
    }
   ],
   "source": [
    "BASE = float(input(\"b Base: \"))\n",
    "Height = float(input(\"h height: \"))\n",
    "\n",
    "Area_of_Trangle = (BASE*Height)/2\n",
    "print(\"Area of Trangle is:\",Area_of_Trangle)"
   ]
  },
  {
   "cell_type": "markdown",
   "id": "c4e8fd4c",
   "metadata": {},
   "source": [
    "# 4. Write a Python program to swap two variables?"
   ]
  },
  {
   "cell_type": "code",
   "execution_count": 69,
   "id": "3c4bb5d4",
   "metadata": {},
   "outputs": [
    {
     "name": "stdout",
     "output_type": "stream",
     "text": [
      "Enter Number for A:-   4\n",
      "Enter Number for B:-   7\n",
      "\n",
      "The NumA is:- 4 before the swap\n",
      "The NumB is:- 7 before the swap\n",
      "\n",
      "The NumA is  7 after the swap\n",
      "The NumB is  4 after the swap\n"
     ]
    }
   ],
   "source": [
    "NumA=int(input(\"Enter Number for A:-   \"))\n",
    "NumB=int(input(\"Enter Number for B:-   \"))\n",
    "print()\n",
    "print(\"The NumA is:-\",NumA,\"before the swap\")\n",
    "print(\"The NumB is:-\",NumB,\"before the swap\")\n",
    "tem=NumA\n",
    "NumA=NumB\n",
    "NumB=tem\n",
    "\n",
    "print()\n",
    "print(\"The NumA is \",NumA,\"after the swap\")\n",
    "print(\"The NumB is \",NumB,\"after the swap\")"
   ]
  },
  {
   "cell_type": "markdown",
   "id": "3f8054c1",
   "metadata": {},
   "source": [
    "\n",
    "### 5. Write a Python program to generate a random number?\n"
   ]
  },
  {
   "cell_type": "code",
   "execution_count": 66,
   "id": "6287a5ba",
   "metadata": {},
   "outputs": [
    {
     "name": "stdout",
     "output_type": "stream",
     "text": [
      "19\n"
     ]
    }
   ],
   "source": [
    "import random as r\n",
    "getNumber=[]\n",
    "for i in range (0,50):\n",
    "    getNumber.append(i)\n",
    "# print(getNumber)\n",
    "printNumber=r.choice(getNumber)\n",
    "print(printNumber)\n"
   ]
  }
 ],
 "metadata": {
  "kernelspec": {
   "display_name": "Python 3 (ipykernel)",
   "language": "python",
   "name": "python3"
  },
  "language_info": {
   "codemirror_mode": {
    "name": "ipython",
    "version": 3
   },
   "file_extension": ".py",
   "mimetype": "text/x-python",
   "name": "python",
   "nbconvert_exporter": "python",
   "pygments_lexer": "ipython3",
   "version": "3.9.12"
  }
 },
 "nbformat": 4,
 "nbformat_minor": 5
}
