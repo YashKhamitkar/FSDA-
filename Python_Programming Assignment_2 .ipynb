{
 "cells": [
  {
   "cell_type": "markdown",
   "id": "08c66ea5",
   "metadata": {},
   "source": [
    "## Programming Assignment_2\n",
    "-------------"
   ]
  },
  {
   "cell_type": "markdown",
   "id": "4e50cf42",
   "metadata": {},
   "source": [
    "### 1. Write a Python program to convert kilometers to miles?\n"
   ]
  },
  {
   "cell_type": "code",
   "execution_count": 2,
   "id": "1129553e",
   "metadata": {},
   "outputs": [
    {
     "name": "stdout",
     "output_type": "stream",
     "text": [
      "Enter the in kilometers:-   25\n",
      "The Kilometers is  25 and convert into miles is  15.534275000000001\n"
     ]
    }
   ],
   "source": [
    "#take input from user\n",
    "Kilometers =int(input(\"Enter the in kilometers:-   \"))\n",
    "\n",
    "#converting kilometers to miles\n",
    "miles=Kilometers*0.621371\n",
    "\n",
    "#printing the answer\n",
    "print(\"The Kilometers is \",Kilometers,\"and convert into miles is \", miles)"
   ]
  },
  {
   "cell_type": "markdown",
   "id": "0df4e6bf",
   "metadata": {},
   "source": [
    "### 2.Write a Python program to convert Celsius to Fahrenheit?"
   ]
  },
  {
   "cell_type": "code",
   "execution_count": 51,
   "id": "def3b24c",
   "metadata": {},
   "outputs": [
    {
     "name": "stdout",
     "output_type": "stream",
     "text": [
      "Enter the value in Celsius:-   10\n",
      "For 10 Celsius fahrenheit is  50.0\n"
     ]
    }
   ],
   "source": [
    "#take input from user\n",
    "Celsius =int(input(\"Enter the value in Celsius:-   \"))\n",
    "\n",
    "#Formula for converting c to f\n",
    "fahrenheit=(Celsius*1.8)+32\n",
    "\n",
    "#printing the answer\n",
    "print(\"For\",Celsius,\"Celsius fahrenheit is \", fahrenheit)"
   ]
  },
  {
   "cell_type": "markdown",
   "id": "46129b8e",
   "metadata": {},
   "source": [
    "### 3. Write a Python program to display calendar?\n"
   ]
  },
  {
   "cell_type": "code",
   "execution_count": 7,
   "id": "14d848b4",
   "metadata": {},
   "outputs": [
    {
     "name": "stdout",
     "output_type": "stream",
     "text": [
      "                                  2022\n",
      "\n",
      "      January                   February                   March\n",
      "Mo Tu We Th Fr Sa Su      Mo Tu We Th Fr Sa Su      Mo Tu We Th Fr Sa Su\n",
      "                1  2          1  2  3  4  5  6          1  2  3  4  5  6\n",
      " 3  4  5  6  7  8  9       7  8  9 10 11 12 13       7  8  9 10 11 12 13\n",
      "10 11 12 13 14 15 16      14 15 16 17 18 19 20      14 15 16 17 18 19 20\n",
      "17 18 19 20 21 22 23      21 22 23 24 25 26 27      21 22 23 24 25 26 27\n",
      "24 25 26 27 28 29 30      28                        28 29 30 31\n",
      "31\n",
      "\n",
      "       April                      May                       June\n",
      "Mo Tu We Th Fr Sa Su      Mo Tu We Th Fr Sa Su      Mo Tu We Th Fr Sa Su\n",
      "             1  2  3                         1             1  2  3  4  5\n",
      " 4  5  6  7  8  9 10       2  3  4  5  6  7  8       6  7  8  9 10 11 12\n",
      "11 12 13 14 15 16 17       9 10 11 12 13 14 15      13 14 15 16 17 18 19\n",
      "18 19 20 21 22 23 24      16 17 18 19 20 21 22      20 21 22 23 24 25 26\n",
      "25 26 27 28 29 30         23 24 25 26 27 28 29      27 28 29 30\n",
      "                          30 31\n",
      "\n",
      "        July                     August                  September\n",
      "Mo Tu We Th Fr Sa Su      Mo Tu We Th Fr Sa Su      Mo Tu We Th Fr Sa Su\n",
      "             1  2  3       1  2  3  4  5  6  7                1  2  3  4\n",
      " 4  5  6  7  8  9 10       8  9 10 11 12 13 14       5  6  7  8  9 10 11\n",
      "11 12 13 14 15 16 17      15 16 17 18 19 20 21      12 13 14 15 16 17 18\n",
      "18 19 20 21 22 23 24      22 23 24 25 26 27 28      19 20 21 22 23 24 25\n",
      "25 26 27 28 29 30 31      29 30 31                  26 27 28 29 30\n",
      "\n",
      "      October                   November                  December\n",
      "Mo Tu We Th Fr Sa Su      Mo Tu We Th Fr Sa Su      Mo Tu We Th Fr Sa Su\n",
      "                1  2          1  2  3  4  5  6                1  2  3  4\n",
      " 3  4  5  6  7  8  9       7  8  9 10 11 12 13       5  6  7  8  9 10 11\n",
      "10 11 12 13 14 15 16      14 15 16 17 18 19 20      12 13 14 15 16 17 18\n",
      "17 18 19 20 21 22 23      21 22 23 24 25 26 27      19 20 21 22 23 24 25\n",
      "24 25 26 27 28 29 30      28 29 30                  26 27 28 29 30 31\n",
      "31\n",
      "\n"
     ]
    }
   ],
   "source": [
    "import calendar\n",
    "\n",
    "\n",
    "print(calendar.calendar(2022))"
   ]
  },
  {
   "cell_type": "markdown",
   "id": "db2bf0f7",
   "metadata": {},
   "source": [
    "### 4. Write a Python program to solve quadratic equation?"
   ]
  },
  {
   "cell_type": "code",
   "execution_count": 11,
   "id": "8a0a71bd",
   "metadata": {},
   "outputs": [
    {
     "name": "stdout",
     "output_type": "stream",
     "text": [
      "Enter the number of a:- \n",
      "8\n",
      "Enter the number of b:- \n",
      "5\n",
      "Enter the number of c:- \n",
      "9\n",
      "The solution are (-0.31250000000000006-1.0135796712641785j) and (-0.31249999999999994+1.0135796712641785j)\n"
     ]
    }
   ],
   "source": [
    "\n",
    "a=float(input(\"Enter the number of a:- \\n\"))\n",
    "b=float(input(\"Enter the number of b:- \\n\"))\n",
    "c=float(input(\"Enter the number of c:- \\n\"))\n",
    "\n",
    "d=(b**2)-(4*a*c)\n",
    "\n",
    "x1 =( -b -(d**0.5))/ (2*a)\n",
    "x2 =( -b +(d**0.5))/ (2*a)\n",
    "\n",
    "print(\"The solution are {0} and {1}\".format(x1,x2))"
   ]
  },
  {
   "cell_type": "markdown",
   "id": "c1902b0f",
   "metadata": {},
   "source": [
    "### 5. Write a Python program to swap two variables without temp variable?"
   ]
  },
  {
   "cell_type": "code",
   "execution_count": 45,
   "id": "6839390e",
   "metadata": {},
   "outputs": [
    {
     "name": "stdout",
     "output_type": "stream",
     "text": [
      "Enter Number for A:- 9\n",
      "Enter Number for B:- 6\n",
      "The NumA is:- 9 before the swap\n",
      "The NumB is:- 6 before the swap\n",
      "\n",
      "The NumA is  6 after the swap\n",
      "The NumB is  9 after the swap\n"
     ]
    }
   ],
   "source": [
    "NumA=int(input(\"Enter Number for A:- \"))\n",
    "NumB=int(input(\"Enter Number for B:- \"))\n",
    "\n",
    "print(\"The NumA is:-\",NumA,\"before the swap\")\n",
    "print(\"The NumB is:-\",NumB,\"before the swap\")\n",
    "NumA=NumA+NumB\n",
    "\n",
    "NumB=NumA-NumB\n",
    "NumA=NumA-NumB\n",
    "\n",
    "print()\n",
    "print(\"The NumA is \",NumA,\"after the swap\")\n",
    "print(\"The NumB is \",NumB,\"after the swap\")\n"
   ]
  }
 ],
 "metadata": {
  "kernelspec": {
   "display_name": "Python 3 (ipykernel)",
   "language": "python",
   "name": "python3"
  },
  "language_info": {
   "codemirror_mode": {
    "name": "ipython",
    "version": 3
   },
   "file_extension": ".py",
   "mimetype": "text/x-python",
   "name": "python",
   "nbconvert_exporter": "python",
   "pygments_lexer": "ipython3",
   "version": "3.9.12"
  }
 },
 "nbformat": 4,
 "nbformat_minor": 5
}
